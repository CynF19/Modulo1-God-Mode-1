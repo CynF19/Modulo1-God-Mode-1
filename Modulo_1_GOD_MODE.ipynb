{
  "nbformat": 4,
  "nbformat_minor": 0,
  "metadata": {
    "colab": {
      "provenance": [],
      "authorship_tag": "ABX9TyP+TOTQtSgQ/yfwGfmpzhgF",
      "include_colab_link": true
    },
    "kernelspec": {
      "name": "python3",
      "display_name": "Python 3"
    },
    "language_info": {
      "name": "python"
    }
  },
  "cells": [
    {
      "cell_type": "markdown",
      "metadata": {
        "id": "view-in-github",
        "colab_type": "text"
      },
      "source": [
        "<a href=\"https://colab.research.google.com/github/CynF19/Modulo1-God-Mode-1/blob/main/Modulo_1_GOD_MODE.ipynb\" target=\"_parent\"><img src=\"https://colab.research.google.com/assets/colab-badge.svg\" alt=\"Open In Colab\"/></a>"
      ]
    },
    {
      "cell_type": "code",
      "execution_count": null,
      "metadata": {
        "id": "kZMpt1RCXva0"
      },
      "outputs": [],
      "source": [
        "import numpy as np\n",
        "import pandas as pd"
      ]
    },
    {
      "cell_type": "code",
      "source": [
        "def is_prime(k):\n",
        "  for l in range (2,k):\n",
        "    if k%l ==0:\n",
        "        result= False \n",
        "        break\n",
        "  if k == l + 1:\n",
        "    result = True\n",
        "  return (result)\n",
        "is_prime(73)"
      ],
      "metadata": {
        "colab": {
          "base_uri": "https://localhost:8080/"
        },
        "id": "S9QljsIGOKO3",
        "outputId": "75e52fc2-2b82-4dea-f9ff-93e8e3ed0e36"
      },
      "execution_count": null,
      "outputs": [
        {
          "output_type": "execute_result",
          "data": {
            "text/plain": [
              "True"
            ]
          },
          "metadata": {},
          "execution_count": 2
        }
      ]
    },
    {
      "cell_type": "code",
      "source": [
        "num = int(input(\"Ingrese un numero:\"))\n",
        "if num > 1:\n",
        "  cont=0\n",
        "  for i in range(2,num):\n",
        "    resto=num%i\n",
        "    print(\"{} % {} = {}\". format (num,i,resto))\n",
        "    if resto == 0:\n",
        "      cont+=1\n",
        "    \n",
        "    i+=1\n",
        "  if cont==0:\n",
        "    print(num)"
      ],
      "metadata": {
        "id": "1qx9uY7fQf83",
        "colab": {
          "base_uri": "https://localhost:8080/"
        },
        "outputId": "8a474c8a-453d-4451-b669-0db61a25842c"
      },
      "execution_count": null,
      "outputs": [
        {
          "output_type": "stream",
          "name": "stdout",
          "text": [
            "Ingrese un numero:73\n",
            "73 % 2 = 1\n",
            "73 % 3 = 1\n",
            "73 % 4 = 1\n",
            "73 % 5 = 3\n",
            "73 % 6 = 1\n",
            "73 % 7 = 3\n",
            "73 % 8 = 1\n",
            "73 % 9 = 1\n",
            "73 % 10 = 3\n",
            "73 % 11 = 7\n",
            "73 % 12 = 1\n",
            "73 % 13 = 8\n",
            "73 % 14 = 3\n",
            "73 % 15 = 13\n",
            "73 % 16 = 9\n",
            "73 % 17 = 5\n",
            "73 % 18 = 1\n",
            "73 % 19 = 16\n",
            "73 % 20 = 13\n",
            "73 % 21 = 10\n",
            "73 % 22 = 7\n",
            "73 % 23 = 4\n",
            "73 % 24 = 1\n",
            "73 % 25 = 23\n",
            "73 % 26 = 21\n",
            "73 % 27 = 19\n",
            "73 % 28 = 17\n",
            "73 % 29 = 15\n",
            "73 % 30 = 13\n",
            "73 % 31 = 11\n",
            "73 % 32 = 9\n",
            "73 % 33 = 7\n",
            "73 % 34 = 5\n",
            "73 % 35 = 3\n",
            "73 % 36 = 1\n",
            "73 % 37 = 36\n",
            "73 % 38 = 35\n",
            "73 % 39 = 34\n",
            "73 % 40 = 33\n",
            "73 % 41 = 32\n",
            "73 % 42 = 31\n",
            "73 % 43 = 30\n",
            "73 % 44 = 29\n",
            "73 % 45 = 28\n",
            "73 % 46 = 27\n",
            "73 % 47 = 26\n",
            "73 % 48 = 25\n",
            "73 % 49 = 24\n",
            "73 % 50 = 23\n",
            "73 % 51 = 22\n",
            "73 % 52 = 21\n",
            "73 % 53 = 20\n",
            "73 % 54 = 19\n",
            "73 % 55 = 18\n",
            "73 % 56 = 17\n",
            "73 % 57 = 16\n",
            "73 % 58 = 15\n",
            "73 % 59 = 14\n",
            "73 % 60 = 13\n",
            "73 % 61 = 12\n",
            "73 % 62 = 11\n",
            "73 % 63 = 10\n",
            "73 % 64 = 9\n",
            "73 % 65 = 8\n",
            "73 % 66 = 7\n",
            "73 % 67 = 6\n",
            "73 % 68 = 5\n",
            "73 % 69 = 4\n",
            "73 % 70 = 3\n",
            "73 % 71 = 2\n",
            "73 % 72 = 1\n",
            "73\n"
          ]
        }
      ]
    },
    {
      "cell_type": "code",
      "source": [
        "from re import I\n",
        "for num in range (1,100):\n",
        "  if num > 1:\n",
        "    cont=0\n",
        "    i=2\n",
        "    while i<num and cont==0:\n",
        "      resto=num%I\n",
        "\n",
        "      if resto==0:\n",
        "        cont+=1\n",
        "      \n",
        "      i+= 1\n",
        "    if cont == 0:\n",
        "      print (num)"
      ],
      "metadata": {
        "id": "7bRiVWneQvO6",
        "colab": {
          "base_uri": "https://localhost:8080/"
        },
        "outputId": "c261b699-9f2b-4325-c2e5-7ea67c0369ee"
      },
      "execution_count": null,
      "outputs": [
        {
          "output_type": "stream",
          "name": "stdout",
          "text": [
            "2\n",
            "3\n",
            "5\n",
            "7\n",
            "9\n",
            "11\n",
            "13\n",
            "15\n",
            "17\n",
            "19\n",
            "21\n",
            "23\n",
            "25\n",
            "27\n",
            "29\n",
            "31\n",
            "33\n",
            "35\n",
            "37\n",
            "39\n",
            "41\n",
            "43\n",
            "45\n",
            "47\n",
            "49\n",
            "51\n",
            "53\n",
            "55\n",
            "57\n",
            "59\n",
            "61\n",
            "63\n",
            "65\n",
            "67\n",
            "69\n",
            "71\n",
            "73\n",
            "75\n",
            "77\n",
            "79\n",
            "81\n",
            "83\n",
            "85\n",
            "87\n",
            "89\n",
            "91\n",
            "93\n",
            "95\n",
            "97\n",
            "99\n"
          ]
        }
      ]
    },
    {
      "cell_type": "code",
      "source": [
        "numero= int(input('Ingrese un numero'))\n",
        "suma =  1\n",
        "\n",
        "\n",
        "while numero > 0:\n",
        "  digito = numero%10\n",
        "  suma = suma * digito\n",
        "  numero //=10\n",
        "\n",
        "print(f'La suma de los digitos es {suma}')"
      ],
      "metadata": {
        "colab": {
          "base_uri": "https://localhost:8080/"
        },
        "id": "Y6PymYGxRRvy",
        "outputId": "c520a33b-b4e3-4994-b54f-fb3f566c3f51"
      },
      "execution_count": null,
      "outputs": [
        {
          "output_type": "stream",
          "name": "stdout",
          "text": [
            "Ingrese un numero73\n",
            "La suma de los digitos es 21\n"
          ]
        }
      ]
    },
    {
      "cell_type": "code",
      "source": [
        "n=int(input(\"Ingrese un número: \"))\n",
        "n1=n\n",
        "c=0\n",
        "while n>0:\n",
        "  c=c+1\n",
        "  n=n // 10\n",
        "n=n1\n",
        "s=0\n",
        "k=c\n",
        "for i in range (k):\n",
        "  c=c-1\n",
        "  s=n %10 * 10 ** c + s\n",
        "  n=n // 10\n",
        "if n1== s:\n",
        "  print(\"Es espejo\")\n",
        "else:\n",
        "  print(\"No es espejo\")\n",
        " "
      ],
      "metadata": {
        "colab": {
          "base_uri": "https://localhost:8080/"
        },
        "id": "7n8WtXyDCH6w",
        "outputId": "5a6f7300-57eb-414c-9ba5-98b8a44af79c"
      },
      "execution_count": null,
      "outputs": [
        {
          "output_type": "stream",
          "name": "stdout",
          "text": [
            "Ingrese un número: 73\n",
            "No es espejo\n"
          ]
        }
      ]
    },
    {
      "cell_type": "code",
      "source": [
        "def r(num):\n",
        "    reversed_num = 0\n",
        "    while num != 0:\n",
        "        digit = num % 10\n",
        "        reversed_num = reversed_num * 10 + digit\n",
        "        num //= 10\n",
        "    return reversed_num\n",
        "r(73)"
      ],
      "metadata": {
        "colab": {
          "base_uri": "https://localhost:8080/"
        },
        "id": "G5wWBOK9ptbr",
        "outputId": "8430adc8-86ef-4834-e103-7b985c550c35"
      },
      "execution_count": null,
      "outputs": [
        {
          "output_type": "execute_result",
          "data": {
            "text/plain": [
              "37"
            ]
          },
          "metadata": {},
          "execution_count": 9
        }
      ]
    },
    {
      "cell_type": "code",
      "source": [
        "num = 73\n",
        "reversed_num = 0\n",
        "\n",
        "while num != 0:\n",
        "    digit = num % 10\n",
        "    reversed_num = reversed_num * 10 + digit\n",
        "    num //= 10\n",
        "\n",
        "print(\"Reversed Number: \" + str(reversed_num))"
      ],
      "metadata": {
        "colab": {
          "base_uri": "https://localhost:8080/"
        },
        "id": "8zmTQZs2qBqh",
        "outputId": "c5585a0f-1377-479e-9057-52f171eb63ca"
      },
      "execution_count": null,
      "outputs": [
        {
          "output_type": "stream",
          "name": "stdout",
          "text": [
            "Reversed Number: 37\n"
          ]
        }
      ]
    },
    {
      "cell_type": "code",
      "source": [
        "import numpy as np\n"
      ],
      "metadata": {
        "id": "FpgzlTqftJaA"
      },
      "execution_count": null,
      "outputs": []
    },
    {
      "cell_type": "code",
      "source": [
        "arr= np.array([2,3,5,7,11,13,17,19,23,29,31,37,41,43,53,59,61,67,71,73,79,83,89,97])\n",
        "np.where(arr ==73 )"
      ],
      "metadata": {
        "colab": {
          "base_uri": "https://localhost:8080/"
        },
        "id": "s6SsFKR2tM2f",
        "outputId": "7c78d5f6-9e09-49a4-fe4b-ee72dcabbea3"
      },
      "execution_count": null,
      "outputs": [
        {
          "output_type": "execute_result",
          "data": {
            "text/plain": [
              "(array([19]),)"
            ]
          },
          "metadata": {},
          "execution_count": 18
        }
      ]
    }
  ]
}